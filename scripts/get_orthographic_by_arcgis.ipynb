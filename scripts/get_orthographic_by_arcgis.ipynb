{
 "cells": [
  {
   "cell_type": "code",
   "execution_count": null,
   "metadata": {},
   "outputs": [],
   "source": [
    "import os\n",
    "import glob\n",
    "import ntpath\n",
    "import arcgis\n",
    "from arcgis.gis import GIS\n"
   ]
  }
 ],
 "metadata": {
  "kernelspec": {
   "display_name": "colmap",
   "language": "python",
   "name": "python3"
  },
  "language_info": {
   "name": "python",
   "version": "3.9.0"
  },
  "orig_nbformat": 4
 },
 "nbformat": 4,
 "nbformat_minor": 2
}
